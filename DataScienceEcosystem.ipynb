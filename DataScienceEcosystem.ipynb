{
 "cells": [
  {
   "cell_type": "markdown",
   "id": "21e33510-7718-4c0d-99f5-a3831eee5725",
   "metadata": {},
   "source": [
    "# **Data Science Tools and Ecosystems**"
   ]
  },
  {
   "cell_type": "markdown",
   "id": "26158b3f-256c-49b4-baad-505fa5bfb8c3",
   "metadata": {},
   "source": [
    "#### *In this notebook we will go into depth about Data Science Tools and Ecosystems*"
   ]
  },
  {
   "cell_type": "markdown",
   "id": "e6ae7bdc-cd2e-4af1-9eb4-561e53c73f1f",
   "metadata": {},
   "source": [
    "Popular languages that Data Scientists use are: \n"
   ]
  },
  {
   "cell_type": "markdown",
   "id": "31a4756b-a7a5-45bc-987d-3d9fd50fb600",
   "metadata": {},
   "source": [
    "**Objectives:**\n",
    "\n",
    "- List popular languages for Data Science\n",
    "- Create and format markdown cells in Jupyter Notebook\n",
    "- Write and execute Python code cells\n",
    "- Perform basic arithmetic operations in Python\n",
    "- Convert units (e.g., minutes to hours) using Python\n"
   ]
  },
  {
   "cell_type": "markdown",
   "id": "1da12640-8889-443c-981c-441c3fb918b7",
   "metadata": {},
   "source": [
    "- **Python**\n",
    "- **R**\n",
    "- **SQL**\n",
    "- **Julia**\n",
    "- **SAS**\n",
    "- **Scala**\n",
    "- **Java**\n",
    "- **MATLAB**\n",
    "  "
   ]
  },
  {
   "cell_type": "markdown",
   "id": "1b06dfbc-b19d-42b4-8198-0c5bee5b834d",
   "metadata": {},
   "source": [
    "Some of the commonly used libraries used by Data Scientists include:"
   ]
  },
  {
   "cell_type": "markdown",
   "id": "be4b033a-6c62-4337-86af-6d2dff3fb7d9",
   "metadata": {},
   "source": [
    "- **Pandas**\n",
    "- **NumPy**\n",
    "- **SciPy**\n",
    "- **Scikit-Learn**\n",
    "- **Tensorflow**"
   ]
  },
  {
   "cell_type": "markdown",
   "id": "591c9de3-52af-4e50-9318-d16ac0ee285a",
   "metadata": {},
   "source": [
    "# **Data Science Tools**\n",
    "\n",
    "The following table lists some popular development environment open source tools used in data science:\n",
    "\n",
    "| Data Science Tools       |\n",
    "|--------------------------|\n",
    "| Jupyter Notebook         |\n",
    "| RStudio                  |\n",
    "| Apache Zeppelin          |"
   ]
  },
  {
   "cell_type": "markdown",
   "id": "46111fa3-ee0f-4e3f-82ae-d55b8d8d5a0a",
   "metadata": {},
   "source": [
    "### Below are a few examples of evaluating arithmetic expressions in Python.\n",
    "\n",
    "1. Addition: `3 + 2` equals `5`\n",
    "2. Subtraction: `5 - 3` equals `2`\n",
    "3. Multiplication: `4 * 2` equals `8`\n",
    "4. Division: `8 / 4` equals `2.0`\n",
    "5. Exponentiation: `2 ** 3` equals `8`\n",
    "6. Modulus: `10 % 3` equals `1`\n",
    "7. Floor Division: `10 // 3` equals `3`"
   ]
  },
  {
   "cell_type": "code",
   "execution_count": null,
   "id": "2a48102c-511e-4644-a5e5-765924cffd36",
   "metadata": {},
   "outputs": [],
   "source": []
  },
  {
   "cell_type": "code",
   "execution_count": 93,
   "id": "e66990d2-933b-4457-8825-c6a9b747e7a7",
   "metadata": {},
   "outputs": [
    {
     "data": {
      "text/plain": [
       "17"
      ]
     },
     "execution_count": 93,
     "metadata": {},
     "output_type": "execute_result"
    }
   ],
   "source": [
    "# This is a simple arithmetic expression to multiply then add integers.\n",
    "(3 * 4) + 5"
   ]
  },
  {
   "cell_type": "code",
   "execution_count": 95,
   "id": "47baf36c-7082-4939-ac2b-565c4109f727",
   "metadata": {},
   "outputs": [
    {
     "data": {
      "text/plain": [
       "3.3333333333333335"
      ]
     },
     "execution_count": 95,
     "metadata": {},
     "output_type": "execute_result"
    }
   ],
   "source": [
    "# This will convert 200 minutes to hours by dividing by 60.\n",
    "minutes = 200\n",
    "hours = minutes / 60\n",
    "hours"
   ]
  },
  {
   "cell_type": "markdown",
   "id": "c3879ca4-c492-4637-9d0a-4d595d4a8755",
   "metadata": {},
   "source": [
    "## Author\n",
    "Jasmine Medina"
   ]
  },
  {
   "cell_type": "code",
   "execution_count": null,
   "id": "dc78df88-ab3d-4e86-a216-9d54837eadf4",
   "metadata": {},
   "outputs": [],
   "source": []
  }
 ],
 "metadata": {
  "kernelspec": {
   "display_name": "Python 3 (ipykernel)",
   "language": "python",
   "name": "python3"
  },
  "language_info": {
   "codemirror_mode": {
    "name": "ipython",
    "version": 3
   },
   "file_extension": ".py",
   "mimetype": "text/x-python",
   "name": "python",
   "nbconvert_exporter": "python",
   "pygments_lexer": "ipython3",
   "version": "3.12.4"
  }
 },
 "nbformat": 4,
 "nbformat_minor": 5
}
